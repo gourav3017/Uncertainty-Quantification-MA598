{
 "cells": [
  {
   "cell_type": "markdown",
   "metadata": {},
   "source": [
    "# Homework 6\n",
    "\n",
    "**Due: 03/27/2018** (Tuesday 27th March at 11:59pm).\n",
    "\n",
    "## Instructions\n",
    "\n",
    "+ In any case, develop the code and generate the figures you need to solve the problems using this notebook.\n",
    "+ For the answers that require a mathematical proof or derivation you can either:\n",
    "    \n",
    "    - Type the answer using the built-in latex capabilities. In this case, simply export the notebook as a pdf and upload it on gradescope; or\n",
    "    - you can print the notebook (after you are done with all the code), write your answers by hand, scan, turn your response to a single pdf, and upload on gradescope. \n",
    "\n",
    "+ The total homework points are 100. Please note that the problems are not weighed equally.\n",
    "\n",
    "**Note**: Please match all the pages corresponding to each of the questions when you submit on gradescope. \n",
    "\n",
    "## Student details\n",
    "\n",
    "+ **First Name:**\n",
    "+ **Last Name:**\n",
    "+ **Email:**\n",
    "\n",
    "## Readings\n",
    "\n",
    "Before attempting the homework, it is probably a good idea to:\n",
    "+ Review the slides of lectures 15, 16, 17 and 18; and\n",
    "+ Review the corresponding lecture handouts."
   ]
  },
  {
   "cell_type": "code",
   "execution_count": 5,
   "metadata": {
    "collapsed": true
   },
   "outputs": [],
   "source": [
    "import numpy as np\n",
    "import math\n",
    "import scipy.stats as st\n",
    "import scipy\n",
    "import matplotlib as mpl\n",
    "import matplotlib.pyplot as plt\n",
    "%matplotlib inline\n",
    "mpl.rcParams['figure.dpi'] = 300\n",
    "import seaborn as sns\n",
    "sns.set_style('white')\n",
    "sns.set_context('talk')\n",
    "import design\n",
    "import warnings\n",
    "warnings.filterwarnings('ignore')\n",
    "import orthpol  # This is the package we will use to construct orthogonal polynomials"
   ]
  },
  {
   "cell_type": "code",
   "execution_count": 78,
   "metadata": {},
   "outputs": [],
   "source": [
    "#solver \n",
    "class Solver(object):\n",
    "    def __init__(self, nt=100, T=5):\n",
    "        \"\"\"\n",
    "        This is the initializer of the class.\n",
    "        \n",
    "        Arguments:\n",
    "            nt - The number of timesteps.\n",
    "            T  - The final time.\n",
    "        \"\"\"\n",
    "        self.nt = nt\n",
    "        self.T = T\n",
    "        self.t = np.linspace(0, T, nt) # The timesteps on which we will get the solution\n",
    "        # The following are not essential, but they are convenient\n",
    "        self.num_input = 2             # The number of inputs the class accepts\n",
    "        self.num_output = nt           # The number of outputs the class returns\n",
    "        \n",
    "    def __call__(self, x):\n",
    "        \"\"\"\n",
    "        This special class method emulates a function call.\n",
    "        \n",
    "        Arguments:\n",
    "            x - A 1D numpy array with 3 elements. This represents the stochastic input x = (x1, x2, x3).\n",
    "        \"\"\"\n",
    "        ##uncertain quantities \n",
    "        x1 = x[0]\n",
    "        x2 = x[1]\n",
    "        x3 = x[2]\n",
    "        \n",
    "        #ODE parameters \n",
    "        omega = 2*np.pi + x1 \n",
    "        y10 = 1 + 0.1*x2\n",
    "        y20 = 0.1*x3\n",
    "        y0 = np.array([y10, y20])   #initial conditions \n",
    "        \n",
    "        #coefficient matrix \n",
    "        zeta = 0.01\n",
    "        k = omega**2    ##spring constant\n",
    "        c = 2*zeta*omega   ##damping coeff. \n",
    "        C = np.array([[0, 1],[-k, -c]])\n",
    "        \n",
    "        #RHS of the ODE system\n",
    "        def rhs(y, t):\n",
    "            return np.dot(C, y)\n",
    "        \n",
    "        y = scipy.integrate.odeint(rhs, y0, self.t)\n",
    "        \n",
    "        return y"
   ]
  },
  {
   "cell_type": "markdown",
   "metadata": {},
   "source": [
    "# Problem 1 "
   ]
  },
  {
   "cell_type": "markdown",
   "metadata": {},
   "source": [
    "Consider the following stochastic harmonic oscillator:\n",
    "$$\n",
    "\\begin{array}{ccc}\n",
    "\\ddot{y} + 2 \\zeta \\omega(X) \\dot{y} + \\omega^2(X)y &=& 0,\\\\\n",
    "y(0) &=& y_0(X),\\\\\n",
    "\\dot{y}(0) &=& v_0(X),\n",
    "\\end{array}\n",
    "$$\n",
    "where $X = (X_1, X_2, X_3)$ and $X_i \\sim \\mathcal{N}(X_i|0, 1)$, \n",
    "\n",
    "$\\omega(X) = 2\\pi + X_1$, \n",
    "\n",
    "$\\zeta = 0.01$ and \n",
    "\n",
    "$y_0(X) = 1+ 0.1 X_2$ and $v_0 = 0.1 X_3$.\n",
    "\n",
    "A solver for this dynamical system is given in the previous cell. Our goal is to propagate uncertainty through this dynamical system, i.e. estimate the mean and variance of it's solution. We will do so, using the intrusive polynomial chaos (PC) approach and the non-instrusive stochastic collocation (SC) approach. \n"
   ]
  },
  {
   "cell_type": "markdown",
   "metadata": {},
   "source": [
    "### Part (a)"
   ]
  },
  {
   "cell_type": "markdown",
   "metadata": {},
   "source": [
    "First, let us establish some ground truth. Generate 100000 samples of $X$  using Latin hypercube sampling. Compute the solution of the dynamical system corresponding to each sample of $X$. Estimate the mean and variance of the displacement, $y$ and velocity, $\\dot{y}$ and visualize it. "
   ]
  },
  {
   "cell_type": "markdown",
   "metadata": {},
   "source": [
    "*Enter solution/code here. *\n",
    "<br><br><br><br><br><br><br><br><br><br>"
   ]
  },
  {
   "cell_type": "markdown",
   "metadata": {},
   "source": [
    "### Part (b) - Intrusive uncertainty propagation using polynomial chaos"
   ]
  },
  {
   "cell_type": "markdown",
   "metadata": {},
   "source": [
    "Recall that the general procedure for propagating uncertainties using polynomial chaos is as follows:\n",
    "1. Expand quantities dependant on the uncertain parameters in a basis of polynomials, orthonormal w.r.t. the joint density of the uncertain parameters. \n",
    "\n",
    "2. Perform a Galerkin projection of the expanded quantities onto each orthonormal polynomial basis. This results in a system of ODEs for the PCE coefficients. \n",
    "\n",
    "3. Solve the system of equations for the PCE coefficients. The mean and variance of the independant variable in the original dynamical system, $u$, are obtained in closed form ($\\mathbb{E}[u] = c_{1}(t)$ and $\\mathbb{V}[u] = \\sum_{i=2}^{n}c_{i}(t)^2$). \n",
    "\n",
    "The lecture handout contains two examples of UP using PCE - a 1st order ODE with uncertainties and an undamped stochastic harmonic oscillator (2nd order ODE). "
   ]
  },
  {
   "cell_type": "markdown",
   "metadata": {},
   "source": [
    "We now consider the case of the stochastic harmonic oscillator with damping.  \n",
    "\n",
    "1 - Convert the given 2nd order DE into a system of 1st order ODEs and expand the uncertain quantities in a basis of orthogonal polynomials. Recover the dynamical system governing the coefficients of the PCE."
   ]
  },
  {
   "cell_type": "markdown",
   "metadata": {},
   "source": [
    "*Enter solution/code here. *\n",
    "<br><br><br><br><br><br><br><br><br><br>"
   ]
  },
  {
   "cell_type": "markdown",
   "metadata": {},
   "source": [
    "2 - Define a function ```pc_up``` which takes as argument, the order of the polynomial basis, $\\rho$. Pick an appropriate sparse grid quadrature rule and the maximum level of the quadrature rule. The function should return the mean and the variance of the displacement and the velocity of the harmonic oscillator. We suggest using the Clenshaw-Curtis or the Fejer 1 quadrature rule as discussed in the handout. "
   ]
  },
  {
   "cell_type": "code",
   "execution_count": 84,
   "metadata": {
    "collapsed": true
   },
   "outputs": [],
   "source": [
    "def pc_up(rho=1):\n",
    "    \"\"\"\n",
    "    Complete this.\n",
    "    \"\"\"\n",
    "    return "
   ]
  },
  {
   "cell_type": "markdown",
   "metadata": {},
   "source": [
    "3 - We need to check for convergence of the solution in the order of the polynomial basis. Since we have a ground truth solution for this problem, we look at the relative error in the PC estimate. Recall for a ground truth, $\\mathbf{y}_{\\mathrm{true}}$ and an estimate, $\\mathbf{y}_{\\mathrm{estimate}}$, the relative error is given by $\\mathcal{E} = \\frac{\\|\\mathbf{y}_{\\mathrm{estimate}} - \\mathbf{y}_{\\mathrm{true}} \\|}{\\|\\mathbf{y}_{\\mathrm{true}}\\|}$, where, $\\|\\cdot\\|$ is the $L_2$ norm.\n",
    "\n",
    "Repeat the analysis until you see convergent results in the mean and variance of both the displacement and the velocity. Visualize the convergence."
   ]
  },
  {
   "cell_type": "markdown",
   "metadata": {},
   "source": [
    "*Enter solution/code here. *\n",
    "<br><br><br><br><br><br><br><br><br><br>"
   ]
  },
  {
   "cell_type": "markdown",
   "metadata": {},
   "source": [
    "### Part (c) - Non-intrusive uncertainty propagation using stochastic collocation"
   ]
  },
  {
   "cell_type": "markdown",
   "metadata": {},
   "source": [
    "Recall that the general procedure for propagating uncertainty using the stochastic collocation approach is as follows:\n",
    "\n",
    "1. Expand the solution in a basis of polynomials that are orthonormal to the joint density of the uncertain parameters. \n",
    "\n",
    "2. Obtain a quadrature rule for the uncertain parameters, and compute the solution of the dynamical system at the quadrature points. \n",
    "\n",
    "3. Obtain the coefficients of the PCE by projecting the solution onto each basis function. \n",
    "\n",
    "1 - Define a function ```up_scol``` which takes as argument, the order of the polynomial expansion, $\\rho$ and the level of the quadrature rule, ```max_level``` and returns the mean and variance of the displacement and velocity of the harmonic oscillator. "
   ]
  },
  {
   "cell_type": "code",
   "execution_count": 82,
   "metadata": {
    "collapsed": true
   },
   "outputs": [],
   "source": [
    "def up_scol(rho=1, max_level=1):\n",
    "    \"\"\"\n",
    "    Complete this.\n",
    "    \"\"\"\n",
    "    return "
   ]
  },
  {
   "cell_type": "markdown",
   "metadata": {},
   "source": [
    "2 - Just like the previous question, do a convergence study of the stochastic collocation approach, by varying the order of the polynomial basis and the level of the quadrature rule. As usual, use the relative error as your error metric. "
   ]
  },
  {
   "cell_type": "markdown",
   "metadata": {},
   "source": [
    "*Enter solution/code here. *\n",
    "<br><br><br><br><br><br><br><br><br><br>"
   ]
  }
 ],
 "metadata": {
  "kernelspec": {
   "display_name": "Python 2",
   "language": "python",
   "name": "python2"
  },
  "language_info": {
   "codemirror_mode": {
    "name": "ipython",
    "version": 2
   },
   "file_extension": ".py",
   "mimetype": "text/x-python",
   "name": "python",
   "nbconvert_exporter": "python",
   "pygments_lexer": "ipython2",
   "version": "2.7.14"
  }
 },
 "nbformat": 4,
 "nbformat_minor": 2
}
